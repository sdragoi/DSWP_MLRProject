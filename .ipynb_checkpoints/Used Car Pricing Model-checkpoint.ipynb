{
 "cells": [
  {
   "cell_type": "markdown",
   "id": "cfe472d5",
   "metadata": {},
   "source": [
    "<div style=\"background-color: beige; padding: 10px;\">\n",
    "<p style='font-size: 22px; text-align: right;'><strong>Stephanie Dragoi and Victor Matsumoto</strong></p>\n",
    "<p style='font-size: 22px; text-align: right;'><strong>DUE 20231026</strong></p>\n",
    "<p style='font-size: 22px; text-align: right;'><strong>MLR Project- Used Car Pricing Model</strong></p>\n",
    "</div>"
   ]
  },
  {
   "cell_type": "markdown",
   "id": "35633551",
   "metadata": {},
   "source": [
    "# Introduction and Car Selection"
   ]
  },
  {
   "cell_type": "markdown",
   "id": "0de229eb",
   "metadata": {},
   "source": [
    "# Munging and Field Engineering"
   ]
  },
  {
   "cell_type": "markdown",
   "id": "4652d3b8",
   "metadata": {},
   "source": [
    "The torque column had conflicting units; most observations were entered in Nm@rpm, but a few were entered in kgm@rpm, which we changed to Nm@rpm. Some of the torques were given in the format torque@[range of rpms], which we changed to torque@lower_rpm. <br>\n",
    "<br>\n",
    "For the engine, max_power, and torque fields, we changed all the values to be expressed to the one's place (ex. 65.01 became 65). <br>\n",
    "<br>\n",
    "<br>\n",
    "One of the models was listed as Tata Indigo VS, which is not a valid model, so we dropped this field, being unable to match its specifications to the Indigo CS, which could have been a plausible model to which it referred.<br>\n",
    "<br>\n",
    "Since the engine, max_power, and torque fields give very similar information, they were combined into one field called engine_max_power_torque, with data in this field being in the format \"engine max_power torque@x_rpm\". However, ultimately, our engineered field showed that choosing engine, max_power, or torque for calculations would be sufficient rather than attempting to use all three, since they essentially measure the same thing.<br>"
   ]
  },
  {
   "cell_type": "markdown",
   "id": "e4d879f7",
   "metadata": {},
   "source": [
    "# Step 4: Import Libraries"
   ]
  },
  {
   "cell_type": "code",
   "execution_count": 172,
   "id": "d4e27695",
   "metadata": {},
   "outputs": [],
   "source": [
    "# Import all necessary libraries\n",
    "\n",
    "import numpy as np\n",
    "import pandas as pd\n",
    "import matplotlib.pyplot as plt\n",
    "import matplotlib.gridspec as gridspec\n",
    "import seaborn as sns\n",
    "from sklearn.linear_model import LinearRegression\n",
    "from sklearn.metrics import mean_absolute_error, mean_squared_error\n",
    "from sklearn.model_selection import train_test_split\n",
    "import statsmodels.api as sm\n",
    "import statsmodels.stats.api as sms\n",
    "from statsmodels.stats.outliers_influence import variance_inflation_factor\n",
    "from statsmodels.compat import lzip"
   ]
  },
  {
   "cell_type": "markdown",
   "id": "b655ff36",
   "metadata": {},
   "source": [
    "# Step 5: Python Functions"
   ]
  },
  {
   "cell_type": "code",
   "execution_count": 96,
   "id": "0dbe205e",
   "metadata": {},
   "outputs": [],
   "source": [
    "# Define useful functions including regression_performance, calculate_vif\n",
    "\n",
    "def regression_performance(model, X, y):\n",
    " yhat = model.predict(X)\n",
    " mse = mean_squared_error(y, yhat)\n",
    " mae = mean_absolute_error(y, yhat)\n",
    " mape = np.mean(np.abs(y - yhat) / y) * 100 # mean absolute pct. error\n",
    " df_performance_summary = pd.DataFrame(\n",
    " {\"MSE\": mse, \"MAE\": mae, \"MAPE\": mape}, index=[0])\n",
    " return df_performance_summary\n",
    "\n",
    "# Function to return a dataframe showing the VIF for each explanatory variable:\n",
    "# Note that the explanatory variables are in a dataframe called Xdataframe.\n",
    "def calculate_vif(Xdataframe):\n",
    " temp_df = pd.DataFrame()\n",
    " temp_df[\"column name\"] = Xdataframe.columns\n",
    " temp_df[\"VIF\"] = [variance_inflation_factor(Xdataframe.values, k)\n",
    " for k in range(len(Xdataframe.columns))]\n",
    " return temp_df"
   ]
  },
  {
   "cell_type": "markdown",
   "id": "c1891fe7",
   "metadata": {},
   "source": [
    "# Step 6: Dataframe Summary Statistics"
   ]
  },
  {
   "cell_type": "code",
   "execution_count": 97,
   "id": "ed4f96c9",
   "metadata": {},
   "outputs": [
    {
     "data": {
      "text/html": [
       "<div>\n",
       "<style scoped>\n",
       "    .dataframe tbody tr th:only-of-type {\n",
       "        vertical-align: middle;\n",
       "    }\n",
       "\n",
       "    .dataframe tbody tr th {\n",
       "        vertical-align: top;\n",
       "    }\n",
       "\n",
       "    .dataframe thead th {\n",
       "        text-align: right;\n",
       "    }\n",
       "</style>\n",
       "<table border=\"1\" class=\"dataframe\">\n",
       "  <thead>\n",
       "    <tr style=\"text-align: right;\">\n",
       "      <th></th>\n",
       "      <th>count</th>\n",
       "      <th>mean</th>\n",
       "      <th>std</th>\n",
       "      <th>min</th>\n",
       "      <th>25%</th>\n",
       "      <th>50%</th>\n",
       "      <th>75%</th>\n",
       "      <th>max</th>\n",
       "    </tr>\n",
       "  </thead>\n",
       "  <tbody>\n",
       "    <tr>\n",
       "      <th>year</th>\n",
       "      <td>287.0</td>\n",
       "      <td>2010.895470</td>\n",
       "      <td>2.935712</td>\n",
       "      <td>2003.000000</td>\n",
       "      <td>2009.00000</td>\n",
       "      <td>2011.00000</td>\n",
       "      <td>2013.00000</td>\n",
       "      <td>2018.0000</td>\n",
       "    </tr>\n",
       "    <tr>\n",
       "      <th>asking_price</th>\n",
       "      <td>287.0</td>\n",
       "      <td>8974.028746</td>\n",
       "      <td>4170.865992</td>\n",
       "      <td>2000.000000</td>\n",
       "      <td>5749.95000</td>\n",
       "      <td>8500.00000</td>\n",
       "      <td>11449.95000</td>\n",
       "      <td>22500.0000</td>\n",
       "    </tr>\n",
       "    <tr>\n",
       "      <th>miles_driven</th>\n",
       "      <td>287.0</td>\n",
       "      <td>60030.251081</td>\n",
       "      <td>27587.440537</td>\n",
       "      <td>7454.545455</td>\n",
       "      <td>43484.84848</td>\n",
       "      <td>55909.09091</td>\n",
       "      <td>74545.45455</td>\n",
       "      <td>168348.4848</td>\n",
       "    </tr>\n",
       "    <tr>\n",
       "      <th>num_previous_owners</th>\n",
       "      <td>287.0</td>\n",
       "      <td>1.662021</td>\n",
       "      <td>0.734314</td>\n",
       "      <td>1.000000</td>\n",
       "      <td>1.00000</td>\n",
       "      <td>2.00000</td>\n",
       "      <td>2.00000</td>\n",
       "      <td>4.0000</td>\n",
       "    </tr>\n",
       "    <tr>\n",
       "      <th>seats</th>\n",
       "      <td>287.0</td>\n",
       "      <td>5.000000</td>\n",
       "      <td>0.000000</td>\n",
       "      <td>5.000000</td>\n",
       "      <td>5.00000</td>\n",
       "      <td>5.00000</td>\n",
       "      <td>5.00000</td>\n",
       "      <td>5.0000</td>\n",
       "    </tr>\n",
       "  </tbody>\n",
       "</table>\n",
       "</div>"
      ],
      "text/plain": [
       "                     count          mean           std          min  \\\n",
       "year                 287.0   2010.895470      2.935712  2003.000000   \n",
       "asking_price         287.0   8974.028746   4170.865992  2000.000000   \n",
       "miles_driven         287.0  60030.251081  27587.440537  7454.545455   \n",
       "num_previous_owners  287.0      1.662021      0.734314     1.000000   \n",
       "seats                287.0      5.000000      0.000000     5.000000   \n",
       "\n",
       "                             25%          50%          75%          max  \n",
       "year                  2009.00000   2011.00000   2013.00000    2018.0000  \n",
       "asking_price          5749.95000   8500.00000  11449.95000   22500.0000  \n",
       "miles_driven         43484.84848  55909.09091  74545.45455  168348.4848  \n",
       "num_previous_owners      1.00000      2.00000      2.00000       4.0000  \n",
       "seats                    5.00000      5.00000      5.00000       5.0000  "
      ]
     },
     "execution_count": 97,
     "metadata": {},
     "output_type": "execute_result"
    }
   ],
   "source": [
    "# read csv and describe\n",
    "df = pd.read_csv('Munged_Engineered_Car_Data.csv')\n",
    "df.describe().T"
   ]
  },
  {
   "cell_type": "markdown",
   "id": "ab169ecd",
   "metadata": {},
   "source": [
    "# Step 7: Variable Types and Missing Data"
   ]
  },
  {
   "cell_type": "code",
   "execution_count": 98,
   "id": "f15d99eb",
   "metadata": {},
   "outputs": [
    {
     "name": "stdout",
     "output_type": "stream",
     "text": [
      "<class 'pandas.core.frame.DataFrame'>\n",
      "RangeIndex: 287 entries, 0 to 286\n",
      "Data columns (total 16 columns):\n",
      " #   Column                   Non-Null Count  Dtype  \n",
      "---  ------                   --------------  -----  \n",
      " 0   make                     287 non-null    object \n",
      " 1   model                    287 non-null    object \n",
      " 2   model_contd              287 non-null    object \n",
      " 3   year                     287 non-null    int64  \n",
      " 4   asking_price             287 non-null    float64\n",
      " 5   miles_driven             287 non-null    float64\n",
      " 6   fuel                     287 non-null    object \n",
      " 7   seller_type              287 non-null    object \n",
      " 8   transmission             287 non-null    object \n",
      " 9   num_previous_owners      287 non-null    int64  \n",
      " 10  mileage                  287 non-null    object \n",
      " 11  engine                   287 non-null    object \n",
      " 12  max_power                287 non-null    object \n",
      " 13  torque                   287 non-null    object \n",
      " 14  seats                    287 non-null    int64  \n",
      " 15  engine_max_power_torque  287 non-null    object \n",
      "dtypes: float64(2), int64(3), object(11)\n",
      "memory usage: 36.0+ KB\n"
     ]
    }
   ],
   "source": [
    "df.info()"
   ]
  },
  {
   "cell_type": "markdown",
   "id": "ebf0269d",
   "metadata": {},
   "source": [
    "Most fields are of type object, with a few being int64 or float64. There is no missing data, since all of it has been handled using imputation (see step 8)."
   ]
  },
  {
   "cell_type": "markdown",
   "id": "885a9970",
   "metadata": {},
   "source": [
    "# Step 8: Missing Data Treatment"
   ]
  },
  {
   "cell_type": "markdown",
   "id": "4af1e67a",
   "metadata": {},
   "source": [
    "Missing data was treated in the spreadsheet using imputation. 5 observations of make/model Tata Indica DLS, 1 observation of make/model Tata Indica DLX, 5 observations of make/model Tata Indica Vista Aqua 1.3 Quadrajet (ABS), and 2 observations of make/model Tata Indica Vista Quadrajet LS were missing values for the following fields: <br>\n",
    "* mileage\n",
    "* engine\n",
    "* max_power\n",
    "* torque\n",
    "* seats\n",
    "<br>\n",
    "<br>\n",
    "The missing values were imputed using information from the websites CarFolio and CarWale, which provided information for the above fields based on make and model."
   ]
  },
  {
   "cell_type": "markdown",
   "id": "f5be48af",
   "metadata": {},
   "source": [
    "# Step 9: Categorical Conversion"
   ]
  },
  {
   "cell_type": "code",
   "execution_count": 144,
   "id": "62baf84c",
   "metadata": {},
   "outputs": [
    {
     "name": "stdout",
     "output_type": "stream",
     "text": [
      "<class 'pandas.core.frame.DataFrame'>\n",
      "RangeIndex: 287 entries, 0 to 286\n",
      "Data columns (total 16 columns):\n",
      " #   Column                   Non-Null Count  Dtype   \n",
      "---  ------                   --------------  -----   \n",
      " 0   make                     287 non-null    category\n",
      " 1   model                    287 non-null    category\n",
      " 2   model_contd              287 non-null    category\n",
      " 3   year                     287 non-null    int64   \n",
      " 4   asking_price             287 non-null    float64 \n",
      " 5   miles_driven             287 non-null    float64 \n",
      " 6   fuel                     287 non-null    category\n",
      " 7   seller_type              287 non-null    category\n",
      " 8   transmission             287 non-null    category\n",
      " 9   num_previous_owners      287 non-null    category\n",
      " 10  mileage                  287 non-null    category\n",
      " 11  engine                   287 non-null    category\n",
      " 12  max_power                287 non-null    category\n",
      " 13  torque                   287 non-null    category\n",
      " 14  seats                    287 non-null    category\n",
      " 15  engine_max_power_torque  287 non-null    object  \n",
      "dtypes: category(12), float64(2), int64(1), object(1)\n",
      "memory usage: 19.5+ KB\n"
     ]
    }
   ],
   "source": [
    "# Convert all variables that are logically categorical, except for model year, into true categories\n",
    "# Code from official Pandas documentation on categorical data\n",
    "\n",
    "categorical_columns = ['make', 'model', 'model_contd','fuel','seller_type','transmission','num_previous_owners','mileage','engine','max_power','torque','seats']\n",
    "df[categorical_columns] = df[categorical_columns].astype('category')"
   ]
  },
  {
   "cell_type": "markdown",
   "id": "d0d38d75",
   "metadata": {},
   "source": [
    "# Step 10: Explanatory/Target Split"
   ]
  },
  {
   "cell_type": "code",
   "execution_count": 161,
   "id": "c791f41d",
   "metadata": {},
   "outputs": [],
   "source": [
    "# split data into explanatory matrix (X) and target column (y)\n",
    "\n",
    "X = df.drop(['asking_price'], axis = 1)\n",
    "y = df['asking_price']"
   ]
  },
  {
   "cell_type": "markdown",
   "id": "0c21061c",
   "metadata": {},
   "source": [
    "# Step 11: Dummy Variables for Categorical Values"
   ]
  },
  {
   "cell_type": "code",
   "execution_count": 162,
   "id": "0fef4530",
   "metadata": {},
   "outputs": [
    {
     "name": "stdout",
     "output_type": "stream",
     "text": [
      "Index(['make', 'model', 'model_contd', 'year', 'miles_driven', 'fuel',\n",
      "       'seller_type', 'transmission', 'num_previous_owners', 'mileage',\n",
      "       'engine'],\n",
      "      dtype='object')\n"
     ]
    }
   ],
   "source": [
    "# Perform one-hot encoding for all categorical values\n",
    "\n",
    "X = X.drop(['max_power', 'torque', 'seats', 'engine_max_power_torque'], axis = 1)\n",
    "print(X.columns)\n",
    "# Perform one-hot encoding for all categorical values\n",
    "X_encoded = pd.get_dummies(\n",
    "    X,\n",
    "    columns=X.select_dtypes(include=[\"object\",\"category\"]).columns.tolist(),\n",
    "    drop_first=True\n",
    ")\n",
    "X_encoded = X_encoded.drop(['year','miles_driven'], axis = 1)\n",
    "\n",
    "# Combine the original columns and one-hot encoding columns\n",
    "X = pd.concat([X, X_encoded], axis=1)"
   ]
  },
  {
   "cell_type": "markdown",
   "id": "ce35ada4",
   "metadata": {},
   "source": [
    "# Step 12: Preliminary EDA"
   ]
  },
  {
   "cell_type": "markdown",
   "id": "da7b7f1a",
   "metadata": {},
   "source": [
    "## Create Histograms and Modified Boxplots or Bar Graphs for All Fields"
   ]
  },
  {
   "cell_type": "code",
   "execution_count": 194,
   "id": "d7311438",
   "metadata": {},
   "outputs": [
    {
     "data": {
      "image/png": "[encoded data removed]",
      "text/plain": [
       "<Figure size 1080x720 with 2 Axes>"
      ]
     },
     "metadata": {
      "needs_background": "light"
     },
     "output_type": "display_data"
    }
   ],
   "source": [
    "# Create a figure and a grid of subplots with 2 rows and 1 column\n",
    "fig = plt.figure(figsize=(15, 10))\n",
    "gs = gridspec.GridSpec(2, 1, height_ratios=[0.2, 0.8])\n",
    "\n",
    "# Create a modified boxplot for 'miles_driven'\n",
    "ax_box = plt.subplot(gs[0, 0])\n",
    "sns.boxplot(x=df['miles_driven'], ax=ax_box, showmeans=True, color='cyan')\n",
    "ax_box.set_title('Modified Boxplot of Miles Driven')\n",
    "ax_box.grid(False)  # Remove grid lines\n",
    "\n",
    "# Add mean and median lines to the boxplot\n",
    "ax_box.axvline(np.mean(df['miles_driven']), color='green', linestyle='--')\n",
    "ax_box.axvline(np.median(df['miles_driven']), color='magenta', linestyle='-')\n",
    "\n",
    "# Create a histogram for 'miles_driven'\n",
    "ax_hist = plt.subplot(gs[1, 0])\n",
    "ax_hist.hist(df['miles_driven'], bins=20, color='skyblue', edgecolor='black')\n",
    "ax_hist.set_title('Histogram of Miles Driven')\n",
    "ax_hist.set_xlabel('Miles Driven')\n",
    "ax_hist.set_ylabel('Frequency')\n",
    "ax_hist.grid(False)  # Remove grid lines\n",
    "\n",
    "# Adjust the layout of subplots for better spacing\n",
    "plt.tight_layout()\n",
    "\n",
    "# Show the subplots\n",
    "plt.show()\n"
   ]
  },
  {
   "cell_type": "code",
   "execution_count": 181,
   "id": "c46803f9",
   "metadata": {},
   "outputs": [
    {
     "data": {
      "image/png": "[encoded data removed]",
      "text/plain": [
       "<Figure size 504x432 with 1 Axes>"
      ]
     },
     "metadata": {
      "needs_background": "light"
     },
     "output_type": "display_data"
    }
   ],
   "source": []
  },
  {
   "cell_type": "code",
   "execution_count": null,
   "id": "2884699a",
   "metadata": {},
   "outputs": [],
   "source": []
  }
 ],
 "metadata": {
  "kernelspec": {
   "display_name": "Python 3 (ipykernel)",
   "language": "python",
   "name": "python3"
  },
  "language_info": {
   "codemirror_mode": {
    "name": "ipython",
    "version": 3
   },
   "file_extension": ".py",
   "mimetype": "text/x-python",
   "name": "python",
   "nbconvert_exporter": "python",
   "pygments_lexer": "ipython3",
   "version": "3.9.12"
  }
 },
 "nbformat": 4,
 "nbformat_minor": 5
}
