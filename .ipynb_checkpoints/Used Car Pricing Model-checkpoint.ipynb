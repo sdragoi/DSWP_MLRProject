{
 "cells": [
  {
   "cell_type": "markdown",
   "id": "cfe472d5",
   "metadata": {},
   "source": [
    "<div style=\"background-color: beige; padding: 10px;\">\n",
    "<p style='font-size: 22px; text-align: right;'><strong>Stephanie Dragoi and Victor Matsumoto</strong></p>\n",
    "<p style='font-size: 22px; text-align: right;'><strong>DUE 20231026</strong></p>\n",
    "<p style='font-size: 22px; text-align: right;'><strong>MLR Project- Used Car Pricing Model</strong></p>\n",
    "</div>"
   ]
  },
  {
   "cell_type": "markdown",
   "id": "35633551",
   "metadata": {},
   "source": [
    "# Introduction and Car Selection"
   ]
  },
  {
   "cell_type": "code",
   "execution_count": null,
   "id": "cdc449ef",
   "metadata": {},
   "outputs": [],
   "source": []
  },
  {
   "cell_type": "markdown",
   "id": "2b64e8ab",
   "metadata": {},
   "source": []
  }
 ],
 "metadata": {
  "kernelspec": {
   "display_name": "Python 3 (ipykernel)",
   "language": "python",
   "name": "python3"
  },
  "language_info": {
   "codemirror_mode": {
    "name": "ipython",
    "version": 3
   },
   "file_extension": ".py",
   "mimetype": "text/x-python",
   "name": "python",
   "nbconvert_exporter": "python",
   "pygments_lexer": "ipython3",
   "version": "3.9.12"
  }
 },
 "nbformat": 4,
 "nbformat_minor": 5
}
