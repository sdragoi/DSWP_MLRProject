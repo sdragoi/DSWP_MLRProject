{
 "cells": [
  {
   "cell_type": "markdown",
   "id": "cfe472d5",
   "metadata": {},
   "source": [
    "<div style=\"background-color: beige; padding: 10px;\">\n",
    "<p style='font-size: 22px; text-align: right;'><strong>Stephanie Dragoi and Victor Matsumoto</strong></p>\n",
    "<p style='font-size: 22px; text-align: right;'><strong>DUE 20231026</strong></p>\n",
    "<p style='font-size: 22px; text-align: right;'><strong>MLR Project- Used Car Pricing Model</strong></p>\n",
    "</div>"
   ]
  },
  {
   "cell_type": "markdown",
   "id": "35633551",
   "metadata": {},
   "source": [
    "# Introduction and Car Selection"
   ]
  },
  {
   "cell_type": "markdown",
   "id": "0de229eb",
   "metadata": {},
   "source": [
    "[include information about munging]"
   ]
  },
  {
   "cell_type": "markdown",
   "id": "e4d879f7",
   "metadata": {},
   "source": [
    "# Step 4: Import Libraries"
   ]
  },
  {
   "cell_type": "code",
   "execution_count": 1,
   "id": "d4e27695",
   "metadata": {},
   "outputs": [],
   "source": [
    "#\n",
    "import numpy as np\n",
    "import pandas as pd\n",
    "import matplotlib.pyplot as plt\n",
    "import seaborn as sns\n",
    "from sklearn.linear_model import LinearRegression\n",
    "from sklearn.metrics import mean_absolute_error, mean_squared_error\n",
    "from sklearn.model_selection import train_test_split\n",
    "import statsmodels.api as sm\n",
    "import statsmodels.stats.api as sms\n",
    "from statsmodels.stats.outliers_influence import variance_inflation_factor\n",
    "from statsmodels.compat import lzip"
   ]
  },
  {
   "cell_type": "markdown",
   "id": "b655ff36",
   "metadata": {},
   "source": [
    "# Step 5: Python Functions"
   ]
  },
  {
   "cell_type": "code",
   "execution_count": 2,
   "id": "0dbe205e",
   "metadata": {},
   "outputs": [],
   "source": [
    "# Define useful functions including regression_performance, calculate_vif\n",
    "\n",
    "def regression_performance(model, X, y):\n",
    " yhat = model.predict(X)\n",
    " mse = mean_squared_error(y, yhat)\n",
    " mae = mean_absolute_error(y, yhat)\n",
    " mape = np.mean(np.abs(y - yhat) / y) * 100 # mean absolute pct. error\n",
    " df_performance_summary = pd.DataFrame(\n",
    " {\"MSE\": mse, \"MAE\": mae, \"MAPE\": mape}, index=[0])\n",
    " return df_performance_summary\n",
    "\n",
    "# Function to return a dataframe showing the VIF for each explanatory variable:\n",
    "# Note that the explanatory variables are in a dataframe called Xdataframe.\n",
    "def calculate_vif(Xdataframe):\n",
    " temp_df = pd.DataFrame()\n",
    " temp_df[\"column name\"] = Xdataframe.columns\n",
    " temp_df[\"VIF\"] = [variance_inflation_factor(Xdataframe.values, k)\n",
    " for k in range(len(Xdataframe.columns))]\n",
    " return temp_df"
   ]
  },
  {
   "cell_type": "markdown",
   "id": "c1891fe7",
   "metadata": {},
   "source": [
    "# Step 6: Dataframe Summary Statistics"
   ]
  },
  {
   "cell_type": "code",
   "execution_count": 4,
   "id": "ed4f96c9",
   "metadata": {},
   "outputs": [
    {
     "data": {
      "text/html": [
       "<div>\n",
       "<style scoped>\n",
       "    .dataframe tbody tr th:only-of-type {\n",
       "        vertical-align: middle;\n",
       "    }\n",
       "\n",
       "    .dataframe tbody tr th {\n",
       "        vertical-align: top;\n",
       "    }\n",
       "\n",
       "    .dataframe thead th {\n",
       "        text-align: right;\n",
       "    }\n",
       "</style>\n",
       "<table border=\"1\" class=\"dataframe\">\n",
       "  <thead>\n",
       "    <tr style=\"text-align: right;\">\n",
       "      <th></th>\n",
       "      <th>count</th>\n",
       "      <th>mean</th>\n",
       "      <th>std</th>\n",
       "      <th>min</th>\n",
       "      <th>25%</th>\n",
       "      <th>50%</th>\n",
       "      <th>75%</th>\n",
       "      <th>max</th>\n",
       "    </tr>\n",
       "  </thead>\n",
       "  <tbody>\n",
       "    <tr>\n",
       "      <th>year</th>\n",
       "      <td>288.0</td>\n",
       "      <td>2010.899306</td>\n",
       "      <td>2.931316</td>\n",
       "      <td>2003.000000</td>\n",
       "      <td>2009.00000</td>\n",
       "      <td>2011.00000</td>\n",
       "      <td>2013.00000</td>\n",
       "      <td>2018.0000</td>\n",
       "    </tr>\n",
       "    <tr>\n",
       "      <th>asking_price</th>\n",
       "      <td>288.0</td>\n",
       "      <td>8961.966146</td>\n",
       "      <td>4168.622707</td>\n",
       "      <td>2000.000000</td>\n",
       "      <td>5699.96250</td>\n",
       "      <td>8500.00000</td>\n",
       "      <td>11424.95000</td>\n",
       "      <td>22500.0000</td>\n",
       "    </tr>\n",
       "    <tr>\n",
       "      <th>miles_driven</th>\n",
       "      <td>288.0</td>\n",
       "      <td>60080.651093</td>\n",
       "      <td>27552.615863</td>\n",
       "      <td>7454.545455</td>\n",
       "      <td>43484.84848</td>\n",
       "      <td>55909.09091</td>\n",
       "      <td>74545.45455</td>\n",
       "      <td>168348.4848</td>\n",
       "    </tr>\n",
       "    <tr>\n",
       "      <th>num_previous_owners</th>\n",
       "      <td>288.0</td>\n",
       "      <td>1.663194</td>\n",
       "      <td>0.733304</td>\n",
       "      <td>1.000000</td>\n",
       "      <td>1.00000</td>\n",
       "      <td>2.00000</td>\n",
       "      <td>2.00000</td>\n",
       "      <td>4.0000</td>\n",
       "    </tr>\n",
       "    <tr>\n",
       "      <th>seats</th>\n",
       "      <td>288.0</td>\n",
       "      <td>5.000000</td>\n",
       "      <td>0.000000</td>\n",
       "      <td>5.000000</td>\n",
       "      <td>5.00000</td>\n",
       "      <td>5.00000</td>\n",
       "      <td>5.00000</td>\n",
       "      <td>5.0000</td>\n",
       "    </tr>\n",
       "  </tbody>\n",
       "</table>\n",
       "</div>"
      ],
      "text/plain": [
       "                     count          mean           std          min  \\\n",
       "year                 288.0   2010.899306      2.931316  2003.000000   \n",
       "asking_price         288.0   8961.966146   4168.622707  2000.000000   \n",
       "miles_driven         288.0  60080.651093  27552.615863  7454.545455   \n",
       "num_previous_owners  288.0      1.663194      0.733304     1.000000   \n",
       "seats                288.0      5.000000      0.000000     5.000000   \n",
       "\n",
       "                             25%          50%          75%          max  \n",
       "year                  2009.00000   2011.00000   2013.00000    2018.0000  \n",
       "asking_price          5699.96250   8500.00000  11424.95000   22500.0000  \n",
       "miles_driven         43484.84848  55909.09091  74545.45455  168348.4848  \n",
       "num_previous_owners      1.00000      2.00000      2.00000       4.0000  \n",
       "seats                    5.00000      5.00000      5.00000       5.0000  "
      ]
     },
     "execution_count": 4,
     "metadata": {},
     "output_type": "execute_result"
    }
   ],
   "source": [
    "# read csv and describe\n",
    "df = pd.read_csv('Munged Car Data.csv')\n",
    "df.describe().T"
   ]
  },
  {
   "cell_type": "markdown",
   "id": "ab169ecd",
   "metadata": {},
   "source": [
    "# Step 7: Variable Types and Missing Data"
   ]
  },
  {
   "cell_type": "code",
   "execution_count": 5,
   "id": "f15d99eb",
   "metadata": {},
   "outputs": [
    {
     "name": "stdout",
     "output_type": "stream",
     "text": [
      "<class 'pandas.core.frame.DataFrame'>\n",
      "RangeIndex: 288 entries, 0 to 287\n",
      "Data columns (total 15 columns):\n",
      " #   Column               Non-Null Count  Dtype  \n",
      "---  ------               --------------  -----  \n",
      " 0   make                 288 non-null    object \n",
      " 1   model                288 non-null    object \n",
      " 2   model_contd          288 non-null    object \n",
      " 3   year                 288 non-null    int64  \n",
      " 4   asking_price         288 non-null    float64\n",
      " 5   miles_driven         288 non-null    float64\n",
      " 6   fuel                 288 non-null    object \n",
      " 7   seller_type          288 non-null    object \n",
      " 8   transmission         288 non-null    object \n",
      " 9   num_previous_owners  288 non-null    int64  \n",
      " 10  mileage              288 non-null    object \n",
      " 11  engine               288 non-null    object \n",
      " 12  max_power            288 non-null    object \n",
      " 13  torque               288 non-null    object \n",
      " 14  seats                288 non-null    int64  \n",
      "dtypes: float64(2), int64(3), object(10)\n",
      "memory usage: 33.9+ KB\n"
     ]
    }
   ],
   "source": [
    "df.info()"
   ]
  },
  {
   "cell_type": "code",
   "execution_count": null,
   "id": "7a542de8",
   "metadata": {},
   "outputs": [],
   "source": []
  }
 ],
 "metadata": {
  "kernelspec": {
   "display_name": "Python 3 (ipykernel)",
   "language": "python",
   "name": "python3"
  },
  "language_info": {
   "codemirror_mode": {
    "name": "ipython",
    "version": 3
   },
   "file_extension": ".py",
   "mimetype": "text/x-python",
   "name": "python",
   "nbconvert_exporter": "python",
   "pygments_lexer": "ipython3",
   "version": "3.9.12"
  }
 },
 "nbformat": 4,
 "nbformat_minor": 5
}
